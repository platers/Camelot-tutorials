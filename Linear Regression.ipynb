{
 "cells": [
  {
   "cell_type": "markdown",
   "metadata": {},
   "source": [
    "We’ll be using scikit-learn to implement linear regression. We have data of the closing price of the etf and its components. The goal is to determine the fractions of the monetary value stored in each cryptocurrency."
   ]
  },
  {
   "cell_type": "code",
   "execution_count": 2,
   "metadata": {},
   "outputs": [],
   "source": [
    "import pandas as pd\n",
    "import pickle\n",
    "data = pickle.load(open(\"test00.in\", \"rb\"))[0]\n",
    "\n",
    "from sklearn.linear_model import LinearRegression\n",
    "import numpy as np"
   ]
  },
  {
   "cell_type": "markdown",
   "metadata": {},
   "source": [
    "We start by finding the coefficients(c1...c5) which solve the equations of the form\n",
    "y = c1 * X1 + c2 * X2 + c3 * X3 + c4 * X4 + c5 * X5\n",
    "where y is etf price and X is the price of the 5 cryptocurrencies.\n"
   ]
  },
  {
   "cell_type": "code",
   "execution_count": 3,
   "metadata": {
    "scrolled": true
   },
   "outputs": [
    {
     "data": {
      "text/html": [
       "<div>\n",
       "<style scoped>\n",
       "    .dataframe tbody tr th:only-of-type {\n",
       "        vertical-align: middle;\n",
       "    }\n",
       "\n",
       "    .dataframe tbody tr th {\n",
       "        vertical-align: top;\n",
       "    }\n",
       "\n",
       "    .dataframe thead th {\n",
       "        text-align: right;\n",
       "    }\n",
       "</style>\n",
       "<table border=\"1\" class=\"dataframe\">\n",
       "  <thead>\n",
       "    <tr style=\"text-align: right;\">\n",
       "      <th></th>\n",
       "      <th>eth</th>\n",
       "      <th>golem</th>\n",
       "      <th>neo</th>\n",
       "      <th>ripple</th>\n",
       "      <th>stellar</th>\n",
       "      <th>etf</th>\n",
       "    </tr>\n",
       "  </thead>\n",
       "  <tbody>\n",
       "    <tr>\n",
       "      <th>0</th>\n",
       "      <td>8.17</td>\n",
       "      <td>0.009868</td>\n",
       "      <td>0.141841</td>\n",
       "      <td>0.006368</td>\n",
       "      <td>0.002481</td>\n",
       "      <td>72.969150</td>\n",
       "    </tr>\n",
       "    <tr>\n",
       "      <th>1</th>\n",
       "      <td>8.38</td>\n",
       "      <td>0.009863</td>\n",
       "      <td>0.145642</td>\n",
       "      <td>0.006311</td>\n",
       "      <td>0.002477</td>\n",
       "      <td>74.433065</td>\n",
       "    </tr>\n",
       "    <tr>\n",
       "      <th>2</th>\n",
       "      <td>9.73</td>\n",
       "      <td>0.010772</td>\n",
       "      <td>0.140422</td>\n",
       "      <td>0.006386</td>\n",
       "      <td>0.002554</td>\n",
       "      <td>85.206683</td>\n",
       "    </tr>\n",
       "    <tr>\n",
       "      <th>3</th>\n",
       "      <td>11.25</td>\n",
       "      <td>0.012581</td>\n",
       "      <td>0.136734</td>\n",
       "      <td>0.006570</td>\n",
       "      <td>0.002735</td>\n",
       "      <td>97.267391</td>\n",
       "    </tr>\n",
       "    <tr>\n",
       "      <th>4</th>\n",
       "      <td>10.25</td>\n",
       "      <td>0.010820</td>\n",
       "      <td>0.131070</td>\n",
       "      <td>0.006201</td>\n",
       "      <td>0.002598</td>\n",
       "      <td>88.586585</td>\n",
       "    </tr>\n",
       "  </tbody>\n",
       "</table>\n",
       "</div>"
      ],
      "text/plain": [
       "     eth     golem       neo    ripple   stellar        etf\n",
       "0   8.17  0.009868  0.141841  0.006368  0.002481  72.969150\n",
       "1   8.38  0.009863  0.145642  0.006311  0.002477  74.433065\n",
       "2   9.73  0.010772  0.140422  0.006386  0.002554  85.206683\n",
       "3  11.25  0.012581  0.136734  0.006570  0.002735  97.267391\n",
       "4  10.25  0.010820  0.131070  0.006201  0.002598  88.586585"
      ]
     },
     "execution_count": 3,
     "metadata": {},
     "output_type": "execute_result"
    }
   ],
   "source": [
    "data"
   ]
  },
  {
   "cell_type": "markdown",
   "metadata": {},
   "source": [
    "First we split the data into input and output arrays. The input array X is composed of the 5 cryptocurrencies we want to find the proportions for. The output array y is the price of the etf which we know is a linear combination of the 5 cryptocurrencies."
   ]
  },
  {
   "cell_type": "code",
   "execution_count": 4,
   "metadata": {},
   "outputs": [
    {
     "data": {
      "text/html": [
       "<div>\n",
       "<style scoped>\n",
       "    .dataframe tbody tr th:only-of-type {\n",
       "        vertical-align: middle;\n",
       "    }\n",
       "\n",
       "    .dataframe tbody tr th {\n",
       "        vertical-align: top;\n",
       "    }\n",
       "\n",
       "    .dataframe thead th {\n",
       "        text-align: right;\n",
       "    }\n",
       "</style>\n",
       "<table border=\"1\" class=\"dataframe\">\n",
       "  <thead>\n",
       "    <tr style=\"text-align: right;\">\n",
       "      <th></th>\n",
       "      <th>eth</th>\n",
       "      <th>golem</th>\n",
       "      <th>neo</th>\n",
       "      <th>ripple</th>\n",
       "      <th>stellar</th>\n",
       "    </tr>\n",
       "  </thead>\n",
       "  <tbody>\n",
       "    <tr>\n",
       "      <th>0</th>\n",
       "      <td>8.17</td>\n",
       "      <td>0.009868</td>\n",
       "      <td>0.141841</td>\n",
       "      <td>0.006368</td>\n",
       "      <td>0.002481</td>\n",
       "    </tr>\n",
       "    <tr>\n",
       "      <th>1</th>\n",
       "      <td>8.38</td>\n",
       "      <td>0.009863</td>\n",
       "      <td>0.145642</td>\n",
       "      <td>0.006311</td>\n",
       "      <td>0.002477</td>\n",
       "    </tr>\n",
       "    <tr>\n",
       "      <th>2</th>\n",
       "      <td>9.73</td>\n",
       "      <td>0.010772</td>\n",
       "      <td>0.140422</td>\n",
       "      <td>0.006386</td>\n",
       "      <td>0.002554</td>\n",
       "    </tr>\n",
       "    <tr>\n",
       "      <th>3</th>\n",
       "      <td>11.25</td>\n",
       "      <td>0.012581</td>\n",
       "      <td>0.136734</td>\n",
       "      <td>0.006570</td>\n",
       "      <td>0.002735</td>\n",
       "    </tr>\n",
       "    <tr>\n",
       "      <th>4</th>\n",
       "      <td>10.25</td>\n",
       "      <td>0.010820</td>\n",
       "      <td>0.131070</td>\n",
       "      <td>0.006201</td>\n",
       "      <td>0.002598</td>\n",
       "    </tr>\n",
       "  </tbody>\n",
       "</table>\n",
       "</div>"
      ],
      "text/plain": [
       "     eth     golem       neo    ripple   stellar\n",
       "0   8.17  0.009868  0.141841  0.006368  0.002481\n",
       "1   8.38  0.009863  0.145642  0.006311  0.002477\n",
       "2   9.73  0.010772  0.140422  0.006386  0.002554\n",
       "3  11.25  0.012581  0.136734  0.006570  0.002735\n",
       "4  10.25  0.010820  0.131070  0.006201  0.002598"
      ]
     },
     "execution_count": 4,
     "metadata": {},
     "output_type": "execute_result"
    }
   ],
   "source": [
    "X = data[[\"eth\", \"golem\", \"neo\", \"ripple\", \"stellar\"]]\n",
    "y = data[\"etf\"]\n",
    "X"
   ]
  },
  {
   "cell_type": "markdown",
   "metadata": {},
   "source": [
    "We now get the linear regression model from scikit. The fit method calculates the coefficients of the 5 input variables. "
   ]
  },
  {
   "cell_type": "code",
   "execution_count": 5,
   "metadata": {},
   "outputs": [],
   "source": [
    "lr = LinearRegression()\n",
    "lr.fit(X,y)\n",
    "c = lr.coef_"
   ]
  },
  {
   "cell_type": "markdown",
   "metadata": {},
   "source": [
    "Finally we calculate the fractions of the monetary value stored in each cryptocurrency. Linear regression isn't perfect, resulting in some negetive fractions. Despite this the fractions are still close to the actual proportions."
   ]
  },
  {
   "cell_type": "code",
   "execution_count": 6,
   "metadata": {},
   "outputs": [
    {
     "name": "stdout",
     "output_type": "stream",
     "text": [
      "0.81978\n",
      "-0.05392\n",
      "-0.00200\n",
      "0.26219\n",
      "-0.02605\n"
     ]
    }
   ],
   "source": [
    "w = np.multiply(c, X.iloc[-1])\n",
    "w = w / sum(w)\n",
    "#print(lr.coef_)\n",
    "for val in w:\n",
    "    print(\"%.5f\" % (val))"
   ]
  },
  {
   "cell_type": "markdown",
   "metadata": {},
   "source": []
  },
  {
   "cell_type": "code",
   "execution_count": null,
   "metadata": {},
   "outputs": [],
   "source": []
  },
  {
   "cell_type": "code",
   "execution_count": null,
   "metadata": {},
   "outputs": [],
   "source": []
  }
 ],
 "metadata": {
  "kernelspec": {
   "display_name": "Python 3",
   "language": "python",
   "name": "python3"
  },
  "language_info": {
   "codemirror_mode": {
    "name": "ipython",
    "version": 3
   },
   "file_extension": ".py",
   "mimetype": "text/x-python",
   "name": "python",
   "nbconvert_exporter": "python",
   "pygments_lexer": "ipython3",
   "version": "3.6.4"
  }
 },
 "nbformat": 4,
 "nbformat_minor": 2
}
